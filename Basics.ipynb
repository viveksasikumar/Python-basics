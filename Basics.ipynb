{
 "cells": [
  {
   "cell_type": "code",
   "execution_count": null,
   "metadata": {
    "collapsed": true
   },
   "outputs": [],
   "source": [
    "(4+3)*(2*2)"
   ]
  },
  {
   "cell_type": "code",
   "execution_count": null,
   "metadata": {
    "collapsed": true
   },
   "outputs": [],
   "source": [
    "c = 'ABCDEF'\n",
    "c[::-1]"
   ]
  },
  {
   "cell_type": "code",
   "execution_count": null,
   "metadata": {
    "collapsed": true
   },
   "outputs": [],
   "source": [
    "a = 'a b c d'\n",
    "a.splitlines()"
   ]
  },
  {
   "cell_type": "code",
   "execution_count": null,
   "metadata": {
    "collapsed": true
   },
   "outputs": [],
   "source": [
    "import numpy as np\n",
    "a = np.array(np.random.randn(10))\n",
    "a"
   ]
  },
  {
   "cell_type": "code",
   "execution_count": null,
   "metadata": {
    "collapsed": true
   },
   "outputs": [],
   "source": [
    "a.reshape(5,2)"
   ]
  },
  {
   "cell_type": "code",
   "execution_count": null,
   "metadata": {
    "collapsed": true
   },
   "outputs": [],
   "source": [
    "b = np.arange(0,14,2)\n",
    "b"
   ]
  },
  {
   "cell_type": "code",
   "execution_count": null,
   "metadata": {
    "collapsed": true
   },
   "outputs": [],
   "source": [
    "#not negates boolean expression\n",
    "x=5\n",
    "y=6\n",
    "not(x>y)"
   ]
  },
  {
   "cell_type": "code",
   "execution_count": null,
   "metadata": {
    "collapsed": true
   },
   "outputs": [],
   "source": [
    "# Logical operators 'and' 'or' 'not'\n",
    "n = 6\n",
    "n%2 == 0 and n%3 == 0"
   ]
  },
  {
   "cell_type": "code",
   "execution_count": null,
   "metadata": {
    "collapsed": true
   },
   "outputs": [],
   "source": [
    "#conditional execution\n",
    "import math\n",
    "x = np.random.randint(40,100)\n",
    "if(x <50): print(\"under 50\")\n",
    "elif(x<75): print(\"under 75\")\n",
    "elif(x<100): print(\"under 100\")\n",
    "else: print(\"not defined\")\n",
    "x"
   ]
  },
  {
   "cell_type": "code",
   "execution_count": null,
   "metadata": {
    "collapsed": true
   },
   "outputs": [],
   "source": [
    "#nested loop\n",
    "y = 1\n",
    "if(y>0):\n",
    "    if(y>10):\n",
    "        print(y)\n",
    "    else:\n",
    "        print(\"y>0 but not >10\")\n",
    "else:\n",
    "    print(\"y<=0\")"
   ]
  },
  {
   "cell_type": "code",
   "execution_count": null,
   "metadata": {
    "collapsed": true
   },
   "outputs": [],
   "source": [
    "#iteration while loop\n",
    "a = 21\n",
    "while(a<1000):\n",
    "    if((a*11)%7 == 0):\n",
    "        print(a)\n",
    "        break\n",
    "    else:\n",
    "        a+=1"
   ]
  },
  {
   "cell_type": "code",
   "execution_count": null,
   "metadata": {
    "collapsed": true
   },
   "outputs": [],
   "source": [
    "#defining fn\n",
    "def counter(n):\n",
    "    while(n<100):\n",
    "        if(n%7 == 0):\n",
    "            print(n)\n",
    "            break\n",
    "        else:\n",
    "            n+=1\n",
    "\n",
    "counter(8)"
   ]
  },
  {
   "cell_type": "code",
   "execution_count": null,
   "metadata": {
    "collapsed": true
   },
   "outputs": [],
   "source": [
    "#traversing through string\n",
    "\n",
    "name = \"Vivek Sasikumar\"\n",
    "for char in name:\n",
    "    print(char)"
   ]
  },
  {
   "cell_type": "code",
   "execution_count": null,
   "metadata": {
    "collapsed": true
   },
   "outputs": [],
   "source": [
    "#counting a particular character \n",
    "name = \"Mississauga\"\n",
    "ct =0\n",
    "for s in name:\n",
    "    if s == 's':\n",
    "        ct+=1\n",
    "print(ct)"
   ]
  },
  {
   "cell_type": "code",
   "execution_count": null,
   "metadata": {
    "collapsed": true
   },
   "outputs": [],
   "source": [
    "#reversing and other operations\n",
    "len(name)\n",
    "name[2:4]  #referencing particular \n",
    "name[::-1]  #reversing\n",
    "name[2::]\n",
    "name[3:]"
   ]
  },
  {
   "cell_type": "code",
   "execution_count": null,
   "metadata": {
    "collapsed": true
   },
   "outputs": [],
   "source": [
    "#function to get the position of a character in a string\n",
    "def search(ch, word):\n",
    "    index =0\n",
    "    while(index<len(word)):\n",
    "        if(word[index]==ch):\n",
    "            return index\n",
    "        index+=1\n",
    "    return False\n",
    "search('g', name)"
   ]
  },
  {
   "cell_type": "code",
   "execution_count": null,
   "metadata": {
    "collapsed": true
   },
   "outputs": [],
   "source": [
    "#checking if there is string in a string\n",
    "#search is case-sensitive\n",
    "'M' in name"
   ]
  },
  {
   "cell_type": "code",
   "execution_count": null,
   "metadata": {
    "collapsed": true
   },
   "outputs": [],
   "source": [
    "#.count()\n",
    "name.count('M')\n",
    "'gghhiijj'.count('gh')"
   ]
  },
  {
   "cell_type": "code",
   "execution_count": null,
   "metadata": {
    "collapsed": true
   },
   "outputs": [],
   "source": [
    "#upper() and lower() functions\n",
    "name.lower()\n",
    "name.upper()\n",
    "#join\n",
    "','.join(['a','b','c'])\n",
    "#replace\n",
    "name.replace('M','P')\n",
    "#note that the method does not change the source"
   ]
  },
  {
   "cell_type": "code",
   "execution_count": null,
   "metadata": {
    "collapsed": true
   },
   "outputs": [],
   "source": [
    "#LISTS and various operations\n",
    "\n",
    "my_list = [0, 2, 3]\n",
    "\n",
    "my_list[2] #referencing value with index\n",
    "\n",
    "my_list.append(5) #appending a value\n",
    "\n",
    "my_list.pop(2) #take the index item out of the list\n",
    "\n",
    "my_list.reverse() #reverse the list\n",
    "\n",
    "my_list[2] = 1 #replace the index with a new value\n",
    "\n",
    "my_list.extend([7,8]) #extends existing list\n",
    "\n",
    "my_list.append([9,10]) #adds a list in a list\n",
    "\n",
    "my_list.pop(5) #remove the list within the list\n",
    "\n",
    "my_list.sort() #sort based on int or alphabetical\n",
    "\n",
    "my_list.insert(2,4) #insert in index(location, value)\n",
    "\n",
    "my_list.remove(7) #remove the list item being mentioned\n",
    "\n",
    "my_list"
   ]
  },
  {
   "cell_type": "code",
   "execution_count": null,
   "metadata": {
    "collapsed": true
   },
   "outputs": [],
   "source": [
    "#referencing an element from a list within a list\n",
    "y = ['a','b','c',['d','ef']]\n",
    "y[-1][-1][0] \n",
    "y[2:3]  #slicing\n",
    "y[::-1]  #reversing"
   ]
  },
  {
   "cell_type": "code",
   "execution_count": null,
   "metadata": {
    "collapsed": true
   },
   "outputs": [],
   "source": [
    "#DICTIONARIES - mutable\n",
    "\n",
    "dict = {'a':'apple','b':'banana','c':'chocolate'}\n",
    "dict['c']\n",
    "dict['d']='dog' #add new dicstionary value\n",
    "dict.values() #value are returned\n",
    "dict.items() #dictionary with keys are returned\n",
    "dict.keys() #keys are returned\n",
    "dict['a'][::-1] #accessing dictionary value with key and slicing"
   ]
  },
  {
   "cell_type": "code",
   "execution_count": null,
   "metadata": {
    "collapsed": true
   },
   "outputs": [],
   "source": [
    "#TUPLES - not mutable\n",
    "\n",
    "t = (1,2,3,'ai', ['ai','r'])\n",
    "t[2]\n",
    "t.index('ai') #returns the index for the value\n",
    "t.count(4)"
   ]
  },
  {
   "cell_type": "code",
   "execution_count": null,
   "metadata": {
    "collapsed": true
   },
   "outputs": [],
   "source": [
    "#ZIP Merges 2 equal length collections and merges them together in pairs\n",
    "a = [1,2,'a']\n",
    "b = [4,5,6]\n",
    "c = zip(a,b) #creates a tuple of pairs\n",
    "list(c) "
   ]
  },
  {
   "cell_type": "code",
   "execution_count": null,
   "metadata": {
    "collapsed": true
   },
   "outputs": [],
   "source": [
    "#LAMBDA function\n",
    "\n",
    "def sqroot(n):return lambda n:n^(1/2)\n",
    "sqroot(4)\n"
   ]
  }
 ],
 "metadata": {
  "celltoolbar": "Raw Cell Format",
  "kernelspec": {
   "display_name": "Python 3",
   "language": "python",
   "name": "python3"
  },
  "language_info": {
   "codemirror_mode": {
    "name": "ipython",
    "version": 3
   },
   "file_extension": ".py",
   "mimetype": "text/x-python",
   "name": "python",
   "nbconvert_exporter": "python",
   "pygments_lexer": "ipython3",
   "version": "3.6.3"
  }
 },
 "nbformat": 4,
 "nbformat_minor": 2
}
